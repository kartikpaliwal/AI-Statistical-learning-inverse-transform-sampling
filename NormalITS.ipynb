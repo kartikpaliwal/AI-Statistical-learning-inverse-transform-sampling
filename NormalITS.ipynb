{
 "cells": [
  {
   "cell_type": "code",
   "execution_count": 9,
   "metadata": {},
   "outputs": [
    {
     "data": {
      "image/png": "[encoded data removed]",
      "text/plain": [
       "<matplotlib.figure.Figure at 0x1cd007815c0>"
      ]
     },
     "metadata": {},
     "output_type": "display_data"
    }
   ],
   "source": [
    "import random\n",
    "import numpy as np\n",
    "import matplotlib.pyplot as plt\n",
    "\n",
    "UpperLimit = 5\n",
    "LowerLimit = -5\n",
    "BinWidth = 0.5\n",
    "\n",
    "RandomVariableValues = np.linspace(-5,5,20)\n",
    "\n",
    "Frequency = [0]*(int((UpperLimit - LowerLimit)/BinWidth))\n",
    "\n",
    "\n",
    "for i in range(0,100000):\n",
    "    \n",
    "    Frequency[int((UpperLimit+np.random.randn(1,1))/BinWidth)] += 1\n",
    "    \n",
    "plt.bar(RandomVariableValues,Frequency)\n",
    "plt.show()"
   ]
  },
  {
   "cell_type": "code",
   "execution_count": null,
   "metadata": {},
   "outputs": [],
   "source": []
  },
  {
   "cell_type": "code",
   "execution_count": null,
   "metadata": {
    "collapsed": true
   },
   "outputs": [],
   "source": []
  }
 ],
 "metadata": {
  "kernelspec": {
   "display_name": "Python 3",
   "language": "python",
   "name": "python3"
  },
  "language_info": {
   "codemirror_mode": {
    "name": "ipython",
    "version": 3
   },
   "file_extension": ".py",
   "mimetype": "text/x-python",
   "name": "python",
   "nbconvert_exporter": "python",
   "pygments_lexer": "ipython3",
   "version": "3.6.4"
  }
 },
 "nbformat": 4,
 "nbformat_minor": 2
}
